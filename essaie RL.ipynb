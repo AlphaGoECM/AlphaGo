{
 "cells": [
  {
   "cell_type": "markdown",
   "metadata": {},
   "source": [
    "# A FAIRE dans CNN_SL :\n",
    "* chargement d'un modèle\n",
    "* chargement des poids d'un modèle\n",
    "* fonction eval_state"
   ]
  },
  {
   "cell_type": "code",
   "execution_count": null,
   "metadata": {
    "collapsed": false
   },
   "outputs": [],
   "source": [
    "import keras\n",
    "import go \n",
    "import CNN_policy"
   ]
  },
  {
   "cell_type": "code",
   "execution_count": null,
   "metadata": {
    "collapsed": true,
    "scrolled": true
   },
   "outputs": [],
   "source": [
    "import numpy as np\n",
    "# definition d'un joueur\n",
    "\n",
    "class Player(object):\n",
    "\n",
    "    def __init__(self, policy_function):\n",
    "        self.policy = policy_function\n",
    "\n",
    "    def get_move(self, state):\n",
    "        # list with sensible moves\n",
    "        sensible_moves = [move for move in state.get_legal_moves(include_eyes=False)]\n",
    "        \n",
    "      \n",
    "        \n",
    "        #parcourt les coups possible et ressort celui qu'aurai jouer le policy network    \n",
    "        if len(sensible_moves) > 0:\n",
    "            a=np.random.randint(0,len(sensible_moves),1) #on prend un coup au hasard\n",
    "            return(sensible_moves[a[0]])\n",
    "        \n",
    "        \"\"\"\"\n",
    "            move_probs = self.policy.eval_state(state, sensible_moves)  # A AJOUTER \n",
    "            max_prob = max(move_probs, key=itemgetter(1))\n",
    "            return max_prob[0]\n",
    "        \"\"\"\n",
    "        # No 'sensible' moves available, so do pass move\n",
    "        return go.PASS_MOVE\n"
   ]
  },
  {
   "cell_type": "code",
   "execution_count": null,
   "metadata": {
    "collapsed": true
   },
   "outputs": [],
   "source": [
    "# a mettre dans la classe "
   ]
  },
  {
   "cell_type": "markdown",
   "metadata": {},
   "source": [
    "## Chargement du modèle SL\n",
    "\n",
    "* A FAIRE ajouter à CNN_SL de quoi charger un modele et ses poids"
   ]
  },
  {
   "cell_type": "code",
   "execution_count": null,
   "metadata": {
    "collapsed": false
   },
   "outputs": [],
   "source": [
    "filename=\"test.json\"\n",
    "policy_pl=CNN_policy.CNN()\n",
    "policy_pl.load () "
   ]
  },
  {
   "cell_type": "code",
   "execution_count": null,
   "metadata": {
    "collapsed": true
   },
   "outputs": [],
   "source": [
    "initial_weights=\"\"\n",
    "policy_pl.model.load_weights(args.initial_weights)\n",
    "policy_op=CNN_policy.CNN()\n",
    "policy_op = CNN_SL.load (file_name)  \n",
    "policy_op.model.load_weights(args.initial_weights)"
   ]
  },
  {
   "cell_type": "markdown",
   "metadata": {},
   "source": [
    "il faut compiler les modeles ?"
   ]
  },
  {
   "cell_type": "code",
   "execution_count": null,
   "metadata": {
    "collapsed": true
   },
   "outputs": [],
   "source": [
    "# pour l'apprentissage plus tard\n",
    "from keras.optimizers import SGD\n",
    "opti = SGD(lr=0.1)\n",
    "player.policy.model.compile(optimizer=opti)"
   ]
  },
  {
   "cell_type": "markdown",
   "metadata": {},
   "source": [
    "## Création des joueurs\n",
    "-> la fonction get move renvoye le coup prédit par le SL en fct de l'état du jeu\n"
   ]
  },
  {
   "cell_type": "code",
   "execution_count": null,
   "metadata": {
    "collapsed": true
   },
   "outputs": [],
   "source": [
    "# a retirer quand le model sera chargé\n",
    "from keras.models import  Model,Sequential\n",
    "policy_pl=Sequential()\n",
    "policy_op=Sequential()"
   ]
  },
  {
   "cell_type": "code",
   "execution_count": null,
   "metadata": {
    "collapsed": true
   },
   "outputs": [],
   "source": [
    "player = Player(policy_pl)\n",
    "opponent =Player(policy_op)"
   ]
  },
  {
   "cell_type": "markdown",
   "metadata": {},
   "source": [
    "## Déroulement des partie"
   ]
  },
  {
   "cell_type": "code",
   "execution_count": null,
   "metadata": {
    "collapsed": true
   },
   "outputs": [],
   "source": [
    "import go\n",
    "import time"
   ]
  },
  {
   "cell_type": "code",
   "execution_count": null,
   "metadata": {
    "collapsed": true
   },
   "outputs": [],
   "source": [
    "#initialisation\n",
    "nb_partie=1000\n",
    "taille=9\n",
    "import features as ft\n",
    "conv=ft.Preprocess()"
   ]
  },
  {
   "cell_type": "code",
   "execution_count": null,
   "metadata": {
    "collapsed": false,
    "scrolled": true
   },
   "outputs": [],
   "source": [
    "# deroulement\n",
    "start=time.time()\n",
    "s1=0 #tps premiere partie\n",
    "\n",
    "etat = [go.GameState(size=taille) for _ in range(nb_partie)] #liste des parties actuelle\n",
    "coups=[[] for _ in range(nb_partie)]  #liste des coups joués\n",
    "parties=[[] for _ in range(nb_partie)] # liste des etats du jeu\n",
    "id_gagne=[] #liste des indices des parties gagnées\n",
    "ratio=0\n",
    "\n",
    "op_couleur=\"BLACK\"\n",
    "pl_couleur=\"WHite\"\n",
    "# on joue le premier coup de chaque partie\n",
    "for i in range(nb_partie):\n",
    "    coup=opponent.get_move(etat[i]) \n",
    "    coups[i].append(coup)\n",
    "    etat[i].do_move(coup)\n",
    "    parties[i].append(conv.state_to_tensor(etat[i]))\n",
    "\n",
    "#on joue tout les coups\n",
    "actuel=player\n",
    "ancien=opponent\n",
    "fin=0 # pour arreter la boucle\n",
    "while(fin<nb_partie): \n",
    "    \n",
    "    for i in range(nb_partie):\n",
    "            if(etat[i].is_end_of_game==False): # vérifie que la partie n'est pas fini\n",
    "                coup = actuel.get_move(etat[i]) # on récupere le coup jpué \n",
    "                coups[i].append(coup) # on le sauvegarde\n",
    "                etat[i].do_move(coup) #on le joue\n",
    "                parties[i].append(conv.state_to_tensor(etat[i])) #on sauvegarde l'état du jeu\n",
    "                \n",
    "                \n",
    "                if(etat[i].is_end_of_game==True): \n",
    "                    fin+=1  # pour arreter la boucle\n",
    "                    if(etat[i].get_winner()==-1): # -1 pour blanc\n",
    "                        id_gagne.append(i)\n",
    "                        ratio+=1\n",
    "                        \n",
    "                if (fin==1&s1==0):\n",
    "                    print(\"1ere partie finie en %f secondes\" % start-time.time())\n",
    "                    s1=1\n",
    "    #vis_gs(parties[1])\n",
    "    \n",
    "\n",
    "    #on change de joueur\n",
    "    temp=actuel\n",
    "    actuel=ancien\n",
    "    ancien=actuel\n",
    "\n",
    "ratio /=float(nb_partie)\n",
    "print(\"%d executé en %f secondes\"%(nb_partie,start-time.time()))\n",
    "print(\"ratio de victoire: %f\" % ratio)\n",
    "\n"
   ]
  },
  {
   "cell_type": "code",
   "execution_count": null,
   "metadata": {
    "collapsed": false
   },
   "outputs": [],
   "source": [
    "# verif\n",
    "id_gagne"
   ]
  },
  {
   "cell_type": "code",
   "execution_count": null,
   "metadata": {
    "collapsed": false
   },
   "outputs": [],
   "source": [
    "parties[2]"
   ]
  },
  {
   "cell_type": "markdown",
   "metadata": {},
   "source": [
    "## Entrainement"
   ]
  },
  {
   "cell_type": "code",
   "execution_count": 16,
   "metadata": {
    "collapsed": false
   },
   "outputs": [],
   "source": [
    "import keras.backend as K\n",
    "\n",
    "for i in range(nb_partie):\n",
    "    \n",
    "    if i in id_gagne:\n",
    "        # on apprend le modele\n",
    "        opti.lr=K.abs(opti.lr) *1\n",
    "        policy_pl.train_on_batch(parties[i],coups[i])  #a verifier\n",
    "    else:\n",
    "        #on dessaprend le modele --> donner des poids negatifs\n",
    "        opti.lr=K.abs(opti.lr) *-1\n",
    "        policy_pl.train_on_batch(parties[i],coups[i])  #a verifier"
   ]
  },
  {
   "cell_type": "code",
   "execution_count": null,
   "metadata": {
    "collapsed": true
   },
   "outputs": [],
   "source": []
  }
 ],
 "metadata": {
  "kernelspec": {
   "display_name": "Python [default]",
   "language": "python",
   "name": "python2"
  },
  "language_info": {
   "codemirror_mode": {
    "name": "ipython",
    "version": 2
   },
   "file_extension": ".py",
   "mimetype": "text/x-python",
   "name": "python",
   "nbconvert_exporter": "python",
   "pygments_lexer": "ipython2",
   "version": "2.7.12"
  }
 },
 "nbformat": 4,
 "nbformat_minor": 2
}
